{
 "cells": [
  {
   "cell_type": "code",
   "execution_count": 1,
   "id": "510d859e",
   "metadata": {},
   "outputs": [
    {
     "name": "stdout",
     "output_type": "stream",
     "text": [
      "After sorting the list is [19, 19, 20, 22, 24, 24, 24, 25, 25, 26]\n",
      "Minimum age is 19\n",
      "Maximum age is 26\n",
      "After adding min and max values to the list is [19, 19, 19, 20, 22, 24, 24, 24, 25, 25, 26, 26]\n",
      "Median is  24.0\n",
      "average is  22.75\n",
      "Range is  7\n"
     ]
    }
   ],
   "source": [
    "import math\n",
    "ages = [19, 22, 19, 24, 20, 25, 26, 24, 25, 24]\n",
    "#sorting the list\n",
    "ages.sort()\n",
    "print(\"After sorting the list is\",ages)\n",
    "print(\"Minimum age is\",ages[0])\n",
    "print(\"Maximum age is\",ages[-1])\n",
    "#adding minimum and maximum values to the list\n",
    "ages.append(ages[-1])\n",
    "ages.append(ages[0])\n",
    "ages.sort()\n",
    "print(\"After adding min and max values to the list is\",ages)\n",
    "#finding the median of list\n",
    "mid1 = len(ages)//2\n",
    "mid2 = mid1-1\n",
    "if len(ages)%2 == 0:\n",
    "    median = (ages[mid1]+ages[mid2])/2\n",
    "else:\n",
    "    median = ages[mid1]\n",
    "print(\"Median is \",median)\n",
    "#finding average age \n",
    "sum = 0\n",
    "for i in ages:\n",
    "    sum = sum + i\n",
    "average = round(sum/len(ages),2)\n",
    "print(\"average is \",average)\n",
    "#finding range\n",
    "range = ages[-1] - ages[0]\n",
    "print(\"Range is \",range)\n",
    "\n"
   ]
  },
  {
   "cell_type": "code",
   "execution_count": 25,
   "id": "a4a2ac89",
   "metadata": {},
   "outputs": [
    {
     "name": "stdout",
     "output_type": "stream",
     "text": [
      "{'breed', 'age', 'color', 'name', 'legs'}\n",
      "{'first_name': 'Sai Prakash', 'last_name': 'Tummala', 'gender': 'Male', 'age': 24, 'marital status': 'single', 'skills': ['python', 'java'], 'country': 'India', 'city': 'eluru', 'address': '123 Guntupalli'}\n",
      "9\n",
      "['python', 'java'] <class 'list'>\n",
      "['python', 'java', 'javascript', 'c++']\n",
      "keys dict_keys(['first_name', 'last_name', 'gender', 'age', 'marital status', 'skills', 'country', 'city', 'address'])\n",
      "values ['first_name', 'last_name', 'gender', 'age', 'marital status', 'skills', 'country', 'city', 'address']\n"
     ]
    }
   ],
   "source": [
    "dog = dict()\n",
    "dog = {'name', 'color', 'breed', 'legs', 'age'}\n",
    "print(dog)\n",
    "\n",
    "# creating a dictionary called student and added keys and values \n",
    "\n",
    "student = {\"first_name\":\"Sai Prakash\", \"last_name\":\"Tummala\", \"gender\":\"Male\", \"age\":24, \"marital status\":\"single\",\"skills\":[\"python\",\"java\"], \"country\":\"India\", \"city\":\"eluru\" , \"address\":\"123 Guntupalli\"}\n",
    "print(student)\n",
    "\n",
    "#printing length of student\n",
    "\n",
    "print(len(student))\n",
    "\n",
    "#printing the values of key \"skills\" and the data type of it\n",
    "\n",
    "print( student[\"skills\"],type(student[\"skills\"]))\n",
    "\n",
    "#modifying the skills by adding two skills\n",
    "\n",
    "student[\"skills\"].extend([\"javascript\",\"c++\"])\n",
    "print( student[\"skills\"])\n",
    "\n",
    "# printing the dictionary keys as list\n",
    "\n",
    "print(\"keys\",student.keys())\n",
    "\n",
    "# printing the dictionary values as list\n",
    "\n",
    "print(\"values\",list(student.keys()))\n",
    "\n",
    "\n",
    "\n",
    "\n",
    "\n",
    "\n"
   ]
  },
  {
   "cell_type": "code",
   "execution_count": 30,
   "id": "57c781ca",
   "metadata": {},
   "outputs": [
    {
     "name": "stdout",
     "output_type": "stream",
     "text": [
      "My brothers are ('Ravi', 'Vamsi')\n",
      "My sisters are ('Teja', 'Bhargavi')\n",
      "My siblings are  ('Ravi', 'Vamsi', 'Teja', 'Bhargavi')\n",
      "I have 4 siblings\n",
      "my family members are  ('Ravi', 'Vamsi', 'Teja', 'Bhargavi', 'setaramaiah', 'Devi')\n"
     ]
    }
   ],
   "source": [
    "brothers = (\"Ravi\",\"Vamsi\")\n",
    "print(\"My brothers are\",brothers)\n",
    "sisters = (\"Teja\",\"Bhargavi\")\n",
    "print(\"My sisters are\",sisters)\n",
    "\n",
    "#Joining brothers and sisters tuples and assign it to siblings\n",
    "\n",
    "siblings = brothers + sisters\n",
    "print(\"My siblings are \",siblings)\n",
    "\n",
    "# printing number of siblings\n",
    "\n",
    "print(\"I have\",len(siblings),\"siblings\")\n",
    "\n",
    "# Modifying the siblings tuple by adding father and mother name\n",
    "\n",
    "siblings = siblings + (\"setaramaiah\",\"Devi\")\n",
    "\n",
    "#Assigning it to the family members tuple\n",
    "\n",
    "family_members = siblings\n",
    "print(\"my family members are \",family_members)"
   ]
  },
  {
   "cell_type": "code",
   "execution_count": 14,
   "id": "842242a6",
   "metadata": {},
   "outputs": [
    {
     "name": "stdout",
     "output_type": "stream",
     "text": [
      "length of set it_companies: 7\n",
      "Set it_companies after adding 'Twitter': {'Microsoft', 'Twitter', 'Apple', 'Facebook', 'Oracle', 'IBM', 'Amazon', 'Google'}\n",
      "Set it_companies after adding multiple IT companies: {'Twitter', 'Infosys', 'Facebook', 'IBM', 'Microsoft', 'Apple', 'TCS', 'Oracle', 'Amazon', 'Google'}\n",
      "Set it_companies after removing one of the companies: {'Twitter', 'Infosys', 'Facebook', 'IBM', 'Microsoft', 'Apple', 'TCS', 'Oracle', 'Amazon'}\n",
      "{19, 20, 22, 24, 25, 26, 27, 28}\n",
      "{19, 20, 22, 24, 25, 26}\n",
      "A is subset of B\n",
      "A and B are not disjoint sets\n",
      "A joined with B: None\n",
      "B joined with A: None\n",
      "Symmetric difference between A and B: set()\n",
      "Sets it_companies, A, and B deleted successfully\n",
      "List age has length: 8\n",
      "Set ageSet has length: 5\n",
      "Length difference: 3\n"
     ]
    }
   ],
   "source": [
    "it_companies = {'Facebook', 'Google', 'Microsoft', 'Apple', 'IBM', 'Oracle', 'Amazon'}\n",
    "A = {19, 22, 24, 20, 25, 26}\n",
    "B = {19, 22, 20, 25, 26, 24, 28, 27}\n",
    "age = [22, 19, 24, 25, 26, 24, 25, 24]\n",
    "\n",
    "# Finding the length of the set it_companies\n",
    "\n",
    "it_companies_len = len(it_companies)\n",
    "print(\"length of set it_companies:\", it_companies_len)\n",
    "\n",
    "# Adding 'Twitter' to it_companies\n",
    "\n",
    "it_companies.add(\"Twitter\")\n",
    "print(\"Set it_companies after adding 'Twitter':\", it_companies)\n",
    "\n",
    "# Inserting multiple IT companies at once to the set it_companies\n",
    "\n",
    "it_companies.update({\"Infosys\", \"TCS\"})\n",
    "print(\"Set it_companies after adding multiple IT companies:\", it_companies)\n",
    "\n",
    "# Remove one of the companies from the set it_companies\n",
    "\n",
    "it_companies.remove(\"Google\")\n",
    "print(\"Set it_companies after removing one of the companies:\", it_companies)\n",
    "\n",
    "# What is the difference between remove and discard\n",
    "#remove raises a KeyError exception if the specified item is not in the set\n",
    "# discard will not raise an exception.\n",
    "\n",
    "# Joining A and B\n",
    "\n",
    "ABJoin = A | B\n",
    "print(ABJoin)\n",
    "\n",
    "# Finding A intersection B\n",
    "\n",
    "ABIntersect = A & B\n",
    "print(ABIntersect)\n",
    "\n",
    "# Is A subset of B\n",
    "\n",
    "isSubset = A.issubset(B)\n",
    "if isSubset:\n",
    "    print(\"A is subset of B\")\n",
    "else:\n",
    "    print(\"A is not subset of B\")\n",
    "\n",
    "# Are A and B disjoint sets\n",
    "\n",
    "isDisjoint = A.isdisjoint(B)\n",
    "if isDisjoint:\n",
    "    print(\"A and B are disjoint sets\")\n",
    "else:\n",
    "    print(\"A and B are not disjoint sets\")\n",
    "\n",
    "# Joining A with B and B with A\n",
    "\n",
    "ABJoin = A.update(B)\n",
    "BAJoin = B.update(A)\n",
    "print(\"A joined with B:\", ABJoin)\n",
    "print(\"B joined with A:\", BAJoin)\n",
    "\n",
    "# The symmetric difference between A and B\n",
    "\n",
    "ABSymDif = A ^ B\n",
    "print(\"Symmetric difference between A and B:\", ABSymDif)\n",
    "\n",
    "# Deleting the sets completely\n",
    "\n",
    "del it_companies\n",
    "del A\n",
    "del B\n",
    "print(\"Sets it_companies, A, and B deleted successfully\")\n",
    "\n",
    "# Converting the ages to a set and compare the length of the list and the set.\n",
    "\n",
    "ageSet = set(age)\n",
    "listLen = len(age)\n",
    "setLen = len(ageSet)\n",
    "print(\"List age has length:\", listLen)\n",
    "print(\"Set ageSet has length:\", setLen)\n",
    "print(\"Length difference:\", listLen - setLen)\n"
   ]
  },
  {
   "cell_type": "code",
   "execution_count": 33,
   "id": "28fda247",
   "metadata": {},
   "outputs": [
    {
     "name": "stdout",
     "output_type": "stream",
     "text": [
      "Enter radius 30\n",
      "Area of circle is  87.92\n",
      "circumference of circle is 188.4\n"
     ]
    }
   ],
   "source": [
    "# Taking radius as input from the user\n",
    "\n",
    "radius = int((input(\"Enter radius \")))\n",
    "\n",
    "#Calculating area of circle\n",
    "\n",
    "_area_of_circle_ = 3.14*(radius^2)\n",
    "\n",
    "#Calculating circumference of circle\n",
    "\n",
    "_circum_of_circle_ =2*3.14*radius\n",
    "\n",
    "#Printing area of circle\n",
    "\n",
    "print(\"Area of circle is \",_area_of_circle_)\n",
    "\n",
    "#printing circumference of circle\n",
    "\n",
    "print(\"circumference of circle is\",_circum_of_circle_)\n",
    "\n"
   ]
  },
  {
   "cell_type": "code",
   "execution_count": 3,
   "id": "2cb0c6b6",
   "metadata": {},
   "outputs": [
    {
     "name": "stdout",
     "output_type": "stream",
     "text": [
      "Unique words in this sentence are  10\n"
     ]
    }
   ],
   "source": [
    "sentence = \"I am a teacher and I love to inspire and teach people\"\n",
    "\n",
    "wordList = sentence.split(\" \")\n",
    "wordSet = set(wordList)\n",
    "unique = len(wordSet)\n",
    "print(\"Unique words in this sentence are \", unique)"
   ]
  },
  {
   "cell_type": "code",
   "execution_count": 2,
   "id": "c4af6ada",
   "metadata": {},
   "outputs": [
    {
     "name": "stdout",
     "output_type": "stream",
     "text": [
      "Name\t\tAge\tCountry\tCity\n",
      "Asabeneh\t250\tFinland\tHelsinki\n"
     ]
    }
   ],
   "source": [
    "print(\"Name\\t\\tAge\\tCountry\\tCity\\nAsabeneh\\t250\\tFinland\\tHelsinki\")"
   ]
  },
  {
   "cell_type": "code",
   "execution_count": 3,
   "id": "0f47ac94",
   "metadata": {},
   "outputs": [
    {
     "name": "stdout",
     "output_type": "stream",
     "text": [
      "The area of a circle with radius 10 is 314 meters square.\n"
     ]
    }
   ],
   "source": [
    "radius = 10\n",
    "area = 3.14 * radius ** 2\n",
    "print(\"The area of a circle with radius %s is %d meters square.\" % (radius, area))"
   ]
  },
  {
   "cell_type": "code",
   "execution_count": 5,
   "id": "af867c54",
   "metadata": {},
   "outputs": [
    {
     "name": "stdout",
     "output_type": "stream",
     "text": [
      "Enter number of students: 4\n",
      "Enter weight (lbs.): 150\n",
      "Enter weight (lbs.): 155\n",
      "Enter weight (lbs.): 145\n",
      "Enter weight (lbs.): 148\n",
      "weights in Pounds: [150, 155, 145, 148]\n",
      "weights in Kilos: [68.04, 70.31, 65.77, 67.13]\n"
     ]
    }
   ],
   "source": [
    "N = int(input(\"Enter number of students: \"))\n",
    "weightsInPound = []\n",
    "weightsInKilo = []\n",
    "\n",
    "for i in range(N):\n",
    "    weight = int(input(\"Enter weight (lbs.): \"))\n",
    "    weightsInPound.append(weight)\n",
    "\n",
    "for i in range(len(weightsInPound)):\n",
    "    inKilos = round(weightsInPound[i] * 0.453592, 2)\n",
    "    weightsInKilo.append(inKilos)\n",
    "\n",
    "print(\"weights in Pounds:\", weightsInPound)\n",
    "print(\"weights in Kilos:\", weightsInKilo)"
   ]
  },
  {
   "cell_type": "code",
   "execution_count": null,
   "id": "d96e753d",
   "metadata": {},
   "outputs": [],
   "source": [
    "\n"
   ]
  },
  {
   "cell_type": "code",
   "execution_count": null,
   "id": "19744c23",
   "metadata": {},
   "outputs": [],
   "source": []
  },
  {
   "cell_type": "code",
   "execution_count": null,
   "id": "39675904",
   "metadata": {},
   "outputs": [],
   "source": []
  }
 ],
 "metadata": {
  "kernelspec": {
   "display_name": "Python 3 (ipykernel)",
   "language": "python",
   "name": "python3"
  },
  "language_info": {
   "codemirror_mode": {
    "name": "ipython",
    "version": 3
   },
   "file_extension": ".py",
   "mimetype": "text/x-python",
   "name": "python",
   "nbconvert_exporter": "python",
   "pygments_lexer": "ipython3",
   "version": "3.9.12"
  }
 },
 "nbformat": 4,
 "nbformat_minor": 5
}
